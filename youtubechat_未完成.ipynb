{
  "cells": [
    {
      "cell_type": "markdown",
      "metadata": {
        "id": "view-in-github",
        "colab_type": "text"
      },
      "source": [
        "<a href=\"https://colab.research.google.com/github/shiba01Git/Youtube_chatdat_Python/blob/main/youtubechat_%E6%9C%AA%E5%AE%8C%E6%88%90.ipynb\" target=\"_parent\"><img src=\"https://colab.research.google.com/assets/colab-badge.svg\" alt=\"Open In Colab\"/></a>"
      ]
    },
    {
      "cell_type": "code",
      "execution_count": null,
      "metadata": {
        "id": "KAZBsyw5cIoy"
      },
      "outputs": [],
      "source": [
        "pip install matplotlib"
      ]
    },
    {
      "cell_type": "code",
      "execution_count": null,
      "metadata": {
        "id": "CnHTDLM_KwOe",
        "collapsed": true
      },
      "outputs": [],
      "source": [
        "pip install yt-dlp pytchat"
      ]
    },
    {
      "cell_type": "code",
      "source": [
        "pip install japanize-matplotlib"
      ],
      "metadata": {
        "collapsed": true,
        "id": "LuJ0cncasHCH"
      },
      "execution_count": null,
      "outputs": []
    },
    {
      "cell_type": "code",
      "execution_count": null,
      "metadata": {
        "id": "Hqr-5982TRH-",
        "collapsed": true
      },
      "outputs": [],
      "source": [
        "import sys\n",
        "from yt_dlp import YoutubeDL\n",
        "import pytchat\n",
        "from matplotlib import pyplot as plt\n",
        "\n",
        "\n",
        "# チャットデータの取得\n",
        "def chat_get(youtube_url):\n",
        "        video_id = extract_video_id(youtube_url)\n",
        "        livechat = pytchat.create(video_id=video_id)\n",
        "        while livechat.is_alive():\n",
        "            chatdata = livechat.get()\n",
        "            if(len(chatdata.items) > 0):\n",
        "                for c in chatdata.items:\n",
        "                    print(f\"{c.datetime} {c.elapsedTime} {c.author.name} {c.message} {c.amountString}\")\n",
        "                    txt_in.append(c.elapsedTime)\n",
        "                # .txtで保存\n",
        "                with open(video_id + '_chatdata.txt', 'w', encoding='utf-8', newline='\\n') as f:\n",
        "                    f.writelines(txt_in)\n",
        "\n",
        "            else:\n",
        "                break\n",
        "\n",
        "# URLからvideo_id抜き出し\n",
        "def extract_video_id(url):\n",
        "    with YoutubeDL() as ydl:\n",
        "        info_dict = ydl.extract_info(url, download=False)\n",
        "        return info_dict.get(\"id\", None)\n",
        "\n",
        "#コマンドから引数取得\n",
        "#if len(sys.argv) != 2:\n",
        "    #print(\"Usage: python script.py \")\n",
        "    #sys.exit(1)\n",
        "\n",
        "#実行\n",
        "txt_in = []\n",
        "#youtube_url = sys.argv[1]\n",
        "#youtube_url = \"https://www.youtube.com/watch?v=EZ_S2eGmbjU&t=452s\"\n",
        "youtube_url = \"https://www.youtube.com/live/p51d135SeIs?si=meQT86sdAw5OaRi9\"\n",
        "txt_in = []\n",
        "chat_get(youtube_url)\n",
        "\n",
        "# h:m:s 表記のリスト（例: \"45:15\" の場合は h が省略されている）\n",
        "#txt_in = [\"1:30:45\", \"45:15\", \"2::30\", \"10\"]\n",
        "\n",
        "\n",
        ""
      ]
    },
    {
      "cell_type": "code",
      "execution_count": null,
      "metadata": {
        "id": "dfz9Tb3RTQ-7",
        "collapsed": true
      },
      "outputs": [],
      "source": [
        "import japanize_matplotlib\n",
        "\n",
        "# 秒数に変換する関数\n",
        "def hms_to_seconds(hms):\n",
        "    parts = hms.split(':')\n",
        "    #print(parts)\n",
        "    #それぞれの要素が空の場合はデフォルトで0に設定\n",
        "    h = int(parts[0]) if len(parts) > 2 and parts[0] else 0\n",
        "    m = int(parts[-2]) if len(parts) > 1 and parts[-2] else 0\n",
        "    s = int(parts[-1]) if parts[-1] else 0\n",
        "    return h * 3600 + m * 60 + s\n",
        "\n",
        "# txt_inの各要素を秒数に変換\n",
        "seconds_list = [hms_to_seconds(time) for time in txt_in]\n",
        "\n",
        "#print(seconds_list)\n",
        "\n",
        "# 10秒ごとの範囲でカウントする関数\n",
        "\n",
        "def count_elements_in_ranges(lst, interval):\n",
        "    max_value = max(lst)\n",
        "\n",
        "    # 結果を格納するリスト\n",
        "    playback_time_list = []   # 範囲の文字列を格納するリスト\n",
        "    count_list = [] # カウント数を格納するリスト\n",
        "\n",
        "    # 0〜10秒, 10〜20秒, ... の範囲ごとにカウント\n",
        "    for start in range(0, max_value + interval, interval):\n",
        "        end = start + interval\n",
        "        count = sum(start <= x < end for x in lst)  # 指定した範囲に含まれる要素をカウント\n",
        "\n",
        "        # 範囲の文字列を作成してplayback_time_listに追加\n",
        "        #playback_time_list.append(f\"{start}秒以上{end}秒未満\")\n",
        "        playback_time_list.append(end)\n",
        "        # カウント数をcount_listに追加\n",
        "        count_list.append(count)\n",
        "\n",
        "    return playback_time_list,count_list\n",
        "\n",
        "\n",
        "# 実行\n",
        "interval = 60\n",
        "playback_time_list, count_list = count_elements_in_ranges(seconds_list, interval)\n",
        "\n",
        "\n",
        "#x = [s for s in range(0,max(playback_time_list),interval)]\n",
        "max_time = max(playback_time_list)\n",
        "\n",
        "#単位を分に直す\n",
        "#max_time_minutes = max_time / 60\n",
        "#interval_minutes = 20 / 60\n",
        "\n",
        "x = [s for s in range(0,max_time,interval)]\n",
        "y = count_list\n",
        "\n",
        "# フォントを全て読み込み\n",
        "#fonts = set([f.name for f in matplotlib.font_manager.fontManager.ttflist])\n",
        "\n",
        "\n",
        "fig, ax = plt.subplots(figsize=(10,4), dpi=600 )\n",
        "xticks_array = [s for s in range(0,max_time,600)]\n",
        "\n",
        "ax.plot(x,y)\n",
        "ax.set_xlabel(\"動画時間\",size = \"small\")\n",
        "ax.set_ylabel(\"コメント数\",size = \"small\")\n",
        "plt.xticks(xticks_array, fontsize=7, rotation=45)\n",
        "ax.minorticks_on()\n",
        "plt.grid(color = \"gray\", linestyle=\"--\")\n",
        "ax.minorticks_on()\n",
        "plt.tight_layout()\n",
        "plt.show()"
      ]
    }
  ],
  "metadata": {
    "colab": {
      "provenance": [],
      "mount_file_id": "1TEH3VY6GvFSIbj2C1-GjHGNB4rCi_PX-",
      "authorship_tag": "ABX9TyO7PMVv6zrX7i737/4GK48r",
      "include_colab_link": true
    },
    "kernelspec": {
      "display_name": "Python 3",
      "name": "python3"
    },
    "language_info": {
      "name": "python"
    }
  },
  "nbformat": 4,
  "nbformat_minor": 0
}