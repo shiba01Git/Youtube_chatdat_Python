{
  "cells": [
    {
      "cell_type": "markdown",
      "metadata": {
        "id": "view-in-github",
        "colab_type": "text"
      },
      "source": [
        "<a href=\"https://colab.research.google.com/github/shiba01Git/Youtube_chatdat_Python/blob/main/twitter_DM.ipynb\" target=\"_parent\"><img src=\"https://colab.research.google.com/assets/colab-badge.svg\" alt=\"Open In Colab\"/></a>"
      ]
    },
    {
      "cell_type": "code",
      "execution_count": null,
      "metadata": {
        "id": "Sgh7gWXwuMUJ"
      },
      "outputs": [],
      "source": [
        "pip install gspread oauth2client"
      ]
    },
    {
      "cell_type": "code",
      "execution_count": null,
      "metadata": {
        "id": "Hn94cUBvjkv8"
      },
      "outputs": [],
      "source": [
        "pip install selenium"
      ]
    },
    {
      "cell_type": "code",
      "execution_count": null,
      "metadata": {
        "id": "QvgevvipjkW4",
        "collapsed": true
      },
      "outputs": [],
      "source": [
        "pip install webdriver-manager"
      ]
    },
    {
      "cell_type": "code",
      "source": [
        "\n",
        "import time\n",
        "import random\n",
        "import gspread\n",
        "from oauth2client.service_account import ServiceAccountCredentials\n",
        "from selenium import webdriver\n",
        "from selenium.webdriver.chrome.service import Service\n",
        "from selenium.webdriver.common.by import By\n",
        "from webdriver_manager.chrome import ChromeDriverManager\n",
        "from selenium.webdriver.chrome.options import Options\n",
        "\n",
        "# Google Sheets APIの設定\n",
        "SCOPE = ['https://spreadsheets.google.com/feeds', 'https://www.googleapis.com/auth/drive']\n",
        "CREDS = ServiceAccountCredentials.from_json_keyfile_name('credentials.json', SCOPE)\n",
        "CLIENT = gspread.authorize(CREDS)\n",
        "\n",
        "# スプレッドシートの読み込み\n",
        "SPREADSHEET_ID = '1I1Myi3FmEO0J2BplvfRYKr-m1-yuFMmTBxeQ-zFZFfg'  # スプレッドシートID\n",
        "SHEET_NAME = 'シート1'  # シート名\n",
        "sheet = CLIENT.open_by_key(SPREADSHEET_ID).worksheet(SHEET_NAME)\n",
        "\n",
        "# シートのデータを取得\n",
        "data = sheet.get_all_records()\n",
        "print(data)\n",
        "\n",
        "# Seleniumの設定\n",
        "def setup_driver():\n",
        "    chrome_options = Options()\n",
        "    chrome_options.add_argument(\"--headless\")  # ヘッドレスモード\n",
        "    chrome_options.add_argument(\"--no-sandbox\")\n",
        "    chrome_options.add_argument(\"--disable-dev-shm-usage\")\n",
        "    # Braveブラウザのパスを指定\n",
        "    chrome_options.binary_location = \"data/com.brave.browser/files/downloads\"  # Braveのインストールパスを指\n",
        "\n",
        "    driver = webdriver.Chrome(service=Service(ChromeDriverManager().install()), options=chrome_options)\n",
        "    return driver\n",
        "\n",
        "setup_driver()\n",
        "print(driver)\n",
        "\n",
        "# Twitterにログイン\n",
        "def login_twitter(driver, username, password):\n",
        "    driver.get(\"https://twitter.com/login\")\n",
        "    time.sleep(3)\n",
        "\n",
        "    # ユーザー名入力\n",
        "    username_field = driver.find_element(By.NAME, 'text')\n",
        "    username_field.send_keys(username)\n",
        "    driver.find_element(By.XPATH, \"//span[text()='Next']\").click()\n",
        "    time.sleep(2)\n",
        "\n",
        "    # パスワード入力\n",
        "    password_field = driver.find_element(By.NAME, 'password')\n",
        "    password_field.send_keys(password)\n",
        "    driver.find_element(By.XPATH, \"//span[text()='Log in']\").click()\n",
        "    time.sleep(3)\n",
        "\n",
        "# DMを送信する\n",
        "def send_dm(driver, recipient_username, message):\n",
        "    driver.get(f\"https://twitter.com/{recipient_username}\")\n",
        "    time.sleep(3)\n",
        "\n",
        "    # メッセージボタンをクリック\n",
        "    try:\n",
        "        message_button = driver.find_element(By.XPATH, \"//span[text()='Message']\")\n",
        "        message_button.click()\n",
        "        time.sleep(3)\n",
        "\n",
        "        # メッセージ送信\n",
        "        dm_field = driver.find_element(By.XPATH, \"//div[@role='textbox']\")\n",
        "        dm_field.send_keys(message)\n",
        "        send_button = driver.find_element(By.XPATH, \"//span[text()='Send']\")\n",
        "        send_button.click()\n",
        "        time.sleep(2)\n",
        "    except Exception as e:\n",
        "        print(f\"Error sending DM to {recipient_username}: {e}\")\n",
        "\n",
        "# メインの処理\n",
        "def main():\n",
        "    driver = setup_driver()\n",
        "\n",
        "    for account in data:\n",
        "        username = account['アカウントID']\n",
        "        password = account['パスワード']\n",
        "        recipient = account['送信先ユーザー名']\n",
        "        message = account['送信メッセージ']\n",
        "\n",
        "        try:\n",
        "            # Twitterにログイン\n",
        "            login_twitter(driver, username, password)\n",
        "\n",
        "            # ランダムな間隔でDMを送信\n",
        "            send_dm(driver, recipient, message)\n",
        "            sleep_time = random.uniform(60, 120)  # 60〜120秒のランダムなスリープ\n",
        "            print(f\"Waiting for {sleep_time} seconds before next message.\")\n",
        "            time.sleep(sleep_time)\n",
        "\n",
        "        except Exception as e:\n",
        "            print(f\"Error with account {username}: {e}\")\n",
        "\n",
        "    driver.quit()\n",
        "\n",
        "#if __name__ == \"__main__\":\n",
        "    main()"
      ],
      "metadata": {
        "id": "jHzh_gBay5Do"
      },
      "execution_count": null,
      "outputs": []
    },
    {
      "cell_type": "code",
      "source": [],
      "metadata": {
        "id": "-smR3MYM2yw2"
      },
      "execution_count": null,
      "outputs": []
    },
    {
      "cell_type": "code",
      "source": [
        "import tweepy\n",
        "import time\n",
        "\n",
        "# Twitter APIの認証情報\n",
        "BEARER_TOKEN = 'your_bearer_token_here'\n",
        "API_KEY = 'your_api_key_here'\n",
        "API_SECRET_KEY = 'your_api_secret_key_here'\n",
        "ACCESS_TOKEN = 'your_access_token_here'\n",
        "ACCESS_TOKEN_SECRET = 'your_access_token_secret_here'\n",
        "\n",
        "# Twitter APIに接続\n",
        "client = tweepy.Client(bearer_token=BEARER_TOKEN,\n",
        "                       consumer_key=API_KEY,\n",
        "                       consumer_secret=API_SECRET_KEY,\n",
        "                       access_token=ACCESS_TOKEN,\n",
        "                       access_token_secret=ACCESS_TOKEN_SECRET)\n",
        "\n",
        "auth = tweepy.OAuth1UserHandler(API_KEY, API_SECRET_KEY, ACCESS_TOKEN, ACCESS_TOKEN_SECRET)\n",
        "api = tweepy.API(auth)\n",
        "\n",
        "# 自動返信するメッセージ\n",
        "REPLY_MESSAGE = \"ご連絡ありがとうございます！こちらから改めてご案内します。\"\n",
        "\n",
        "# 受信済みDMのIDを保存して、同じメッセージには返信しないようにするためのリスト\n",
        "replied_message_ids = set()\n",
        "\n",
        "# DMを確認して返信する関数\n",
        "def check_and_reply_dm():\n",
        "    # DMのリストを取得\n",
        "    dms = api.get_direct_messages(count=50)  # 最新50件のDMを取得\n",
        "\n",
        "    for dm in dms:\n",
        "        message_id = dm.id\n",
        "        sender_id = dm.message_create['sender_id']\n",
        "        message_text = dm.message_create['message_data']['text']\n",
        "\n",
        "        # 自分が送ったメッセージには返信しない\n",
        "        if sender_id == api.me().id:\n",
        "            continue\n",
        "\n",
        "        # 既に返信したメッセージはスキップ\n",
        "        if message_id in replied_message_ids:\n",
        "            continue\n",
        "\n",
        "        # 自動返信\n",
        "        try:\n",
        "            api.send_direct_message(recipient_id=sender_id, text=REPLY_MESSAGE)\n",
        "            print(f\"Replied to DM from {sender_id}\")\n",
        "\n",
        "            # 返信済みのメッセージIDを保存\n",
        "            replied_message_ids.add(message_id)\n",
        "        except Exception as e:\n",
        "            print(f\"Error replying to DM: {e}\")\n",
        "\n",
        "# 定期的にDMをチェックして返信する\n",
        "def main():\n",
        "    while True:\n",
        "        check_and_reply_dm()\n",
        "        # 60秒待機して再度確認\n",
        "        time.sleep(60)\n",
        "\n",
        "if __name__ == \"__main__\":\n",
        "    main()"
      ],
      "metadata": {
        "id": "YM1nyqy-y5Wu"
      },
      "execution_count": null,
      "outputs": []
    }
  ],
  "metadata": {
    "colab": {
      "provenance": [],
      "authorship_tag": "ABX9TyM72n9YR4dPFhVceTwztUYg",
      "include_colab_link": true
    },
    "kernelspec": {
      "display_name": "Python 3",
      "name": "python3"
    },
    "language_info": {
      "name": "python"
    }
  },
  "nbformat": 4,
  "nbformat_minor": 0
}